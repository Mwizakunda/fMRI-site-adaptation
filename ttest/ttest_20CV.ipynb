{
 "cells": [
  {
   "cell_type": "code",
   "execution_count": 27,
   "metadata": {},
   "outputs": [],
   "source": [
    "import pandas as pd\n",
    "import numpy as np\n",
    "from scipy.stats import ttest_ind\n",
    "\n",
    "cv20_df = pd.read_csv('ttest_20CV.csv')\n",
    "cv20_ACC_df = cv20_df.iloc[:, 1::2]\n",
    "cv20_AUC_df = cv20_df.iloc[:, 2::2]\n"
   ]
  },
  {
   "cell_type": "markdown",
   "metadata": {},
   "source": [
    "# 1-tailed two sample welch t-test code\n",
    "\n",
    "Algorithm 1 and 2 leave one site out CV results random variables $Y, X$. Let $Y_i, X_i$ be the 20 fold CV results with $i = 1,\\ldots,20$. \n",
    "\n",
    "Let the population means of the two algorithms be $\\mu_1$ and $\\mu_2$ respectively. Then the test for statistical significance between distribution means is:\n",
    "\n",
    "$\\mathbf{H_0}: \\mu_1 = \\mu_2$\n",
    "$\\mathbf{H_a}: \\mu_1 \\neq \\mu_2$ \n",
    "\n",
    "Test statistic T:\n",
    "\n",
    "$$\n",
    "T=\\frac{\\overline{Y}_{1}-\\overline{Y}_{2}}{\\sqrt{s_{1}^{2} / N_{1}+s_{2}^{2} / N_{2}}}\n",
    "$$\n",
    "\n",
    "$\n",
    "\\begin{array}{l}{\\text { where } N_{1} \\text { and } N_{2} \\text { are the sample sizes, } \\overline{Y}_{1} \\text { and } \\overline{Y}_{2} \\text { are the sample means, and } s_{1}^{2}} {\\text { and } s_{2}^{2} \\text { are the sample variances. }}\\end{array}\n",
    "$\n",
    "\n",
    "The test statistic is compared with the student t distribution with $N1 + N2 - 2$ degrees of freedom to obtain a p-value. "
   ]
  },
  {
   "cell_type": "code",
   "execution_count": 28,
   "metadata": {},
   "outputs": [],
   "source": [
    "norm_ttest = pd.DataFrame(columns=['model', 'MIDA', 'Raw', 'Parisot et al (1035)', 'Parisot et al (871)'])\n",
    "\n",
    "# TP MIDA Ridge 1035 subjects\n",
    "a = cv20_ACC_df['TP MIDA Ridge (ACC) (1035)']\n",
    "b = cv20_ACC_df['TP raw Ridge (ACC) (1035)']\n",
    "c = cv20_ACC_df['Parisot et al (2018) (ACC) (1035)']\n",
    "d = cv20_ACC_df['Parisot et al (2018)   (ACC) (871)']\n",
    "\n",
    "norm_ttest.loc[0] =['TP MIDA Ridge (1035)', 'NA',\n",
    "                    ttest_ind(a, b, equal_var = False)[1]/2,\n",
    "                    ttest_ind(a, c, equal_var = False)[1]/2,\n",
    "                    ttest_ind(a, d, equal_var = False)[1]/2]\n",
    "\n",
    "# TP raw Ridge 1035 subjects\n",
    "a = cv20_ACC_df['TP raw Ridge (ACC) (1035)']\n",
    "b = cv20_ACC_df['TP raw Ridge (ACC) (1035)']\n",
    "c = cv20_ACC_df['Parisot et al (2018) (ACC) (1035)']\n",
    "d = cv20_ACC_df['Parisot et al (2018)   (ACC) (871)']\n",
    "\n",
    "norm_ttest.loc[1] =['TP raw Ridge (1035)', 'NA',\n",
    "                    'NA',\n",
    "                    ttest_ind(a, c, equal_var = False)[1]/2,\n",
    "                    ttest_ind(a, d, equal_var = False)[1]/2]\n",
    "\n",
    "# TP MIDA LR 871 subjects\n",
    "a = cv20_ACC_df['TP MIDA LR (ACC) (871)']\n",
    "b = cv20_ACC_df['TP raw LR (ACC) (871)']\n",
    "c = cv20_ACC_df['Parisot et al (2018) (ACC) (1035)']\n",
    "d = cv20_ACC_df['Parisot et al (2018)   (ACC) (871)']\n",
    "\n",
    "norm_ttest.loc[2] =['TP MIDA LR (871)', 'NA',\n",
    "                    ttest_ind(a, b, equal_var = False)[1]/2,\n",
    "                    ttest_ind(a, c, equal_var = False)[1]/2,\n",
    "                    ttest_ind(a, d, equal_var = False)[1]/2]\n",
    "\n",
    "# TP raw LR 871 subjects\n",
    "a = cv20_ACC_df['TP raw LR (ACC) (871)']\n",
    "b = cv20_ACC_df['TP raw LR (ACC) (871)']\n",
    "c = cv20_ACC_df['Parisot et al (2018) (ACC) (1035)']\n",
    "d = cv20_ACC_df['Parisot et al (2018)   (ACC) (871)']\n",
    "\n",
    "norm_ttest.loc[3] =['TP raw Ridge (871)', 'NA',\n",
    "                    'NA',\n",
    "                    ttest_ind(a, c, equal_var = False)[1]/2,\n",
    "                    ttest_ind(a, d, equal_var = False)[1]/2]"
   ]
  },
  {
   "cell_type": "markdown",
   "metadata": {},
   "source": [
    "## Notes\n",
    "\n",
    "For the p-value results that follow, the following should be noted:\n",
    "\n",
    "- The p-values are generated from comparing two models accuracy in individual folds\n",
    "- Comparing performance between different sample sizes (1035, 871) is not valid since the data in individual folds is different. The p-values are given nonetheless.\n",
    "- Comparison against *Raw* (see p value tables below) refers to the Raw version of the model in the model column\n",
    "\n",
    "Lastly, the \"corrected resampled t-test\" methods are not included for leave one site out evaluation since the training/test samples differ greatly from fold to fold."
   ]
  },
  {
   "cell_type": "markdown",
   "metadata": {},
   "source": [
    "## Average leave-one-site out results"
   ]
  },
  {
   "cell_type": "code",
   "execution_count": 29,
   "metadata": {},
   "outputs": [
    {
     "data": {
      "text/html": [
       "<div>\n",
       "<style scoped>\n",
       "    .dataframe tbody tr th:only-of-type {\n",
       "        vertical-align: middle;\n",
       "    }\n",
       "\n",
       "    .dataframe tbody tr th {\n",
       "        vertical-align: top;\n",
       "    }\n",
       "\n",
       "    .dataframe thead th {\n",
       "        text-align: right;\n",
       "    }\n",
       "</style>\n",
       "<table border=\"1\" class=\"dataframe\">\n",
       "  <thead>\n",
       "    <tr style=\"text-align: right;\">\n",
       "      <th></th>\n",
       "      <th>ACC</th>\n",
       "      <th>AUC</th>\n",
       "    </tr>\n",
       "  </thead>\n",
       "  <tbody>\n",
       "    <tr>\n",
       "      <th>TP MIDA Ridge (ACC) (1035)</th>\n",
       "      <td>0.709354</td>\n",
       "      <td>0.709354</td>\n",
       "    </tr>\n",
       "    <tr>\n",
       "      <th>TP raw Ridge (ACC) (1035)</th>\n",
       "      <td>0.685462</td>\n",
       "      <td>0.685462</td>\n",
       "    </tr>\n",
       "    <tr>\n",
       "      <th>TP MIDA LR (ACC) (871)</th>\n",
       "      <td>0.687849</td>\n",
       "      <td>0.687849</td>\n",
       "    </tr>\n",
       "    <tr>\n",
       "      <th>TP raw LR (ACC) (871)</th>\n",
       "      <td>0.681414</td>\n",
       "      <td>0.681414</td>\n",
       "    </tr>\n",
       "    <tr>\n",
       "      <th>Parisot et al (2018) (ACC) (1035)</th>\n",
       "      <td>0.682928</td>\n",
       "      <td>0.682928</td>\n",
       "    </tr>\n",
       "    <tr>\n",
       "      <th>Parisot et al (2018)   (ACC) (871)</th>\n",
       "      <td>0.683711</td>\n",
       "      <td>0.683711</td>\n",
       "    </tr>\n",
       "  </tbody>\n",
       "</table>\n",
       "</div>"
      ],
      "text/plain": [
       "                                         ACC       AUC\n",
       "TP MIDA Ridge (ACC) (1035)          0.709354  0.709354\n",
       "TP raw Ridge (ACC) (1035)           0.685462  0.685462\n",
       "TP MIDA LR (ACC) (871)              0.687849  0.687849\n",
       "TP raw LR (ACC) (871)               0.681414  0.681414\n",
       "Parisot et al (2018) (ACC) (1035)   0.682928  0.682928\n",
       "Parisot et al (2018)   (ACC) (871)  0.683711  0.683711"
      ]
     },
     "execution_count": 29,
     "metadata": {},
     "output_type": "execute_result"
    }
   ],
   "source": [
    "result_summary = pd.DataFrame(cv20_ACC_df.mean(axis = 0))\n",
    "result_summary.columns = ['ACC']\n",
    "result_summary['AUC'] = list(cv20_ACC_df.mean(axis = 0))\n",
    "result_summary = result_summary\n",
    "result_summary"
   ]
  },
  {
   "cell_type": "markdown",
   "metadata": {},
   "source": [
    "### 1-tailed two sample welch t-test p values\n"
   ]
  },
  {
   "cell_type": "code",
   "execution_count": 30,
   "metadata": {},
   "outputs": [
    {
     "data": {
      "text/html": [
       "<div>\n",
       "<style scoped>\n",
       "    .dataframe tbody tr th:only-of-type {\n",
       "        vertical-align: middle;\n",
       "    }\n",
       "\n",
       "    .dataframe tbody tr th {\n",
       "        vertical-align: top;\n",
       "    }\n",
       "\n",
       "    .dataframe thead th {\n",
       "        text-align: right;\n",
       "    }\n",
       "</style>\n",
       "<table border=\"1\" class=\"dataframe\">\n",
       "  <thead>\n",
       "    <tr style=\"text-align: right;\">\n",
       "      <th></th>\n",
       "      <th>model</th>\n",
       "      <th>MIDA</th>\n",
       "      <th>Raw</th>\n",
       "      <th>Parisot et al (1035)</th>\n",
       "      <th>Parisot et al (871)</th>\n",
       "    </tr>\n",
       "  </thead>\n",
       "  <tbody>\n",
       "    <tr>\n",
       "      <th>0</th>\n",
       "      <td>TP MIDA Ridge (1035)</td>\n",
       "      <td>NA</td>\n",
       "      <td>0.201155</td>\n",
       "      <td>0.115821</td>\n",
       "      <td>0.132552</td>\n",
       "    </tr>\n",
       "    <tr>\n",
       "      <th>1</th>\n",
       "      <td>TP raw Ridge (1035)</td>\n",
       "      <td>NA</td>\n",
       "      <td>NA</td>\n",
       "      <td>0.460802</td>\n",
       "      <td>0.473706</td>\n",
       "    </tr>\n",
       "    <tr>\n",
       "      <th>2</th>\n",
       "      <td>TP MIDA LR (871)</td>\n",
       "      <td>NA</td>\n",
       "      <td>0.405025</td>\n",
       "      <td>0.409571</td>\n",
       "      <td>0.426988</td>\n",
       "    </tr>\n",
       "    <tr>\n",
       "      <th>3</th>\n",
       "      <td>TP raw Ridge (871)</td>\n",
       "      <td>NA</td>\n",
       "      <td>NA</td>\n",
       "      <td>0.475119</td>\n",
       "      <td>0.463564</td>\n",
       "    </tr>\n",
       "  </tbody>\n",
       "</table>\n",
       "</div>"
      ],
      "text/plain": [
       "                  model MIDA       Raw  Parisot et al (1035)  \\\n",
       "0  TP MIDA Ridge (1035)   NA  0.201155              0.115821   \n",
       "1   TP raw Ridge (1035)   NA        NA              0.460802   \n",
       "2      TP MIDA LR (871)   NA  0.405025              0.409571   \n",
       "3    TP raw Ridge (871)   NA        NA              0.475119   \n",
       "\n",
       "   Parisot et al (871)  \n",
       "0             0.132552  \n",
       "1             0.473706  \n",
       "2             0.426988  \n",
       "3             0.463564  "
      ]
     },
     "execution_count": 30,
     "metadata": {},
     "output_type": "execute_result"
    }
   ],
   "source": [
    "norm_ttest"
   ]
  }
 ],
 "metadata": {
  "kernelspec": {
   "display_name": "gcn_tensorflow",
   "language": "python",
   "name": "build_central"
  },
  "language_info": {
   "codemirror_mode": {
    "name": "ipython",
    "version": 3
   },
   "file_extension": ".py",
   "mimetype": "text/x-python",
   "name": "python",
   "nbconvert_exporter": "python",
   "pygments_lexer": "ipython3",
   "version": "3.6.8"
  }
 },
 "nbformat": 4,
 "nbformat_minor": 2
}
